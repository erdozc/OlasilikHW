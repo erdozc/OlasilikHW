{
  "nbformat": 4,
  "nbformat_minor": 0,
  "metadata": {
    "colab": {
      "name": "Erdem_HW3.ipynb",
      "provenance": [],
      "authorship_tag": "ABX9TyM/RBcvGtEFqdoUdccyozDF",
      "include_colab_link": true
    },
    "kernelspec": {
      "name": "python3",
      "display_name": "Python 3"
    }
  },
  "cells": [
    {
      "cell_type": "markdown",
      "metadata": {
        "id": "view-in-github",
        "colab_type": "text"
      },
      "source": [
        "<a href=\"https://colab.research.google.com/github/erdozc/OlasilikHW/blob/master/Erdem_HW3.ipynb\" target=\"_parent\"><img src=\"https://colab.research.google.com/assets/colab-badge.svg\" alt=\"Open In Colab\"/></a>"
      ]
    },
    {
      "cell_type": "markdown",
      "metadata": {
        "id": "tpUmz9yNlvp1",
        "colab_type": "text"
      },
      "source": [
        "#Ödev 3 - Bayes Kuralı\n",
        "\n",
        "Ayten, Nurten ve Gülten kardeşler mini keklerin içinde gizli olan yüzüğü bulmaya çalışıyorlar. Yüzüğü bulan kişi oyunu kazanacaktır. Annelerinin hazırladığı 40 çikolatalı, 50 tarçın-havuçlu mini keki, kardeşler sırasıyla tabaklarına Ayten: 12ç, 18t; Nurten: 10ç, 20t; Gülten: 18ç, 12t şeklinde alıyorlar.<br>\n",
        "Yüzüğün tarçınlı-havuçlu kekte olduğu bilindiğine göre oyunu Gülten'in kazanma olasılığı nedir?<br><hr>\n",
        "#Çözüm:\n",
        "Kişilerin kek dağılımlarını aşaığdaki tabloda sayı ve yüzde olarak özetleyelim.\n",
        "<table align=\"left\">\n",
        "<tr><th></th><th>Ayten</th><th>Nurten</th><th>Gülten</th><th><b>TOPLAM</th></tr>  \n",
        "<tr><td>Çikolata</td><td>12</td><td>10</td><td>18</td><td>40</td></tr>  \n",
        "<tr><td>Tarçın-Havuç</td><td>18</td><td>20</td><td>12</td><td>50</td></tr> \n",
        "<tr><td><b>TOPLAM</td><td>30</td><td>30</td><td>30</td><td>90</td></tr> \n",
        "<tr><th colspan=\"5\"></th></tr>  \n",
        "<tr><td>Çikolata</td><td>%13,33</td><td>%11,11</td><td>%20,00</td><td>%44,44</td></tr>  \n",
        "<tr><td>Tarçın-Havuç</td><td>%20,00</td><td>%22,22</td><td>%13,33</td><td>%55,56</td></tr> \n",
        "<tr><td><b>TOPLAM</td><td>%33,33</td><td>%33,33</td><td>%33,33</td><td>%100</td>\n",
        "</tr> \n",
        "</table><br><br><br><br><br><br><br><br><br>\n",
        "<b>Bayes Kuralı:</b><br>\n",
        "\n",
        "![image.png](data:image/png;base64,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)\n",
        "\n",
        "Tüm tabaklardaki tarçınlı-havuçlu kek oranlarının toplam orana bölümü şeklinde bulunabilir.<br>\n",
        "P(Aht) = 18/30 = 0,6 => Ayten'in tabağındaki havuçlu-tarçınlı kek oranı<br>\n",
        "P(Nht) = 20/30 = 0,6666 => Nurten'in tabağındaki havuçlu-tarçınlı kek oranı<br>\n",
        "<b>P(Ght) = 12/30 = 0,4 => Gülten'in tabağındaki havuçlu-tarçınlı kek oranı</b><br>\n",
        "P(ANG|A)P(Aht)  = Ayten_ToplamKekOrani X Ayten_HavucluKekOrani = 0,3333 X 0,6 = 0,1999<br>\n",
        "P(ANG|N)P(Nht)  = Nurten_ToplamKekOrani X Nurten_HavucluKekOrani = 0,3333 X 0,6666 = 0,2221<br>\n",
        "<b>P(ANG|G)P(Ght)  = Gulten_ToplamKekOrani X Gulten_HavucluKekOrani = 0,3333 X 0,4 = 0,1333</b><br><br>\n",
        "P(G_Kazanma_Olasılıgi) = [P(ANG|G)P(Ght)] / [Toplam_P(ANG|X)P(Xht)]<br>\n",
        "P(ht | G) = [0,3333 X 0,4] / [(0,3333 X 0,6)+(0,3333 X 0,6666)+(0,3333 X 0,4)]<br>= 0,1333 / (0,1999 + 0,2221 + 0,1333) = 0,24 = %24 olasılıkla kazanabilir."
      ]
    },
    {
      "cell_type": "code",
      "metadata": {
        "id": "auDcO_0wlz9g",
        "colab_type": "code",
        "colab": {
          "base_uri": "https://localhost:8080/",
          "height": 34
        },
        "outputId": "672f62c9-27f9-4a8f-a983-3d2e59127bfd"
      },
      "source": [
        "cikolataliKek = [12,10,18] #Sırasıyla Ayten,Nurten,Gülten'in tabaklarındaki çikolatalı kek sayısı\n",
        "havucluKek = [18,20,12] #Sırasıyla Ayten,Nurten,Gülten'in tabaklarındaki havuçlu kek sayısı\n",
        "tabaktakiKekOrani = 1/3 #Kekler 3 eşit parçayla dağıtıldı\n",
        "tabaktakiKekSayisi = 30\n",
        "P_ANG_Toplam = 0\n",
        "\n",
        "#Gülten'in tabağındaki havuçlu kekten yüzük çıkma olasılığı\n",
        "P_ANG_G = tabaktakiKekOrani * (havucluKek[2] / tabaktakiKekSayisi) # P(ANG|G)P(Ght)\n",
        "\n",
        "for i in range(0,len(havucluKek)): #Tüm tabaklardaki havuçlu kekten yüzük çıkma olasılıkları\n",
        "   P_ANG_Toplam = P_ANG_Toplam + (tabaktakiKekOrani * (havucluKek[i] / tabaktakiKekSayisi))\n",
        "\n",
        "P_G_Kazanma = P_ANG_G / P_ANG_Toplam #[P(ANG|G)P(Ght)] / [Toplam_P(ANG|X)P(Xht)]\n",
        "print(\"Gülten'in kazanma olasılığı %\",'{:.4f}'.format(100*P_G_Kazanma,4))"
      ],
      "execution_count": 1,
      "outputs": [
        {
          "output_type": "stream",
          "text": [
            "Gülten'in kazanma olasılığı % 24.0000\n"
          ],
          "name": "stdout"
        }
      ]
    }
  ]
}