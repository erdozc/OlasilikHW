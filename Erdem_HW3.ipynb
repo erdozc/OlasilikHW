{
  "nbformat": 4,
  "nbformat_minor": 0,
  "metadata": {
    "colab": {
      "name": "Erdem_HW3.ipynb",
      "provenance": [],
      "authorship_tag": "ABX9TyM0b2qymf9mkmvCJMTYrJah",
      "include_colab_link": true
    },
    "kernelspec": {
      "name": "python3",
      "display_name": "Python 3"
    }
  },
  "cells": [
    {
      "cell_type": "markdown",
      "metadata": {
        "id": "view-in-github",
        "colab_type": "text"
      },
      "source": [
        "<a href=\"https://colab.research.google.com/github/erdozc/OlasilikHW/blob/master/Erdem_HW3.ipynb\" target=\"_parent\"><img src=\"https://colab.research.google.com/assets/colab-badge.svg\" alt=\"Open In Colab\"/></a>"
      ]
    },
    {
      "cell_type": "markdown",
      "metadata": {
        "id": "tpUmz9yNlvp1",
        "colab_type": "text"
      },
      "source": [
        "#Ödev 3 - Bayes Kuralı\n",
        "\n",
        "Ayten, Nurten ve Gülten kardeşler mini keklerin içinde gizli olan yüzüğü bulmaya çalışıyorlar. Yüzüğü bulan kişi oyunu kazanacaktır. Annelerinin hazırladığı 40 çikolatalı, 50 tarçın-havuçlu mini keki, kardeşler sırasıyla tabaklarına Ayten: 12ç, 18t; Nurten: 10ç, 20t; Gülten: 18ç, 12t şeklinde alıyorlar.<br>\n",
        "Yüzüğün tarçınlı-havuçlu kekte olduğu bilindiğine göre oyunu Gülten'in kazanma olasılığı nedir?<br><hr>\n",
        "#Çözüm:\n",
        "Kişilerin kek dağılımlarını aşaığdaki tabloda sayı ve yüzde olarak özetleyelim.<br>\n",
        "<table>\n",
        "<tr><th></th><th>Ayten</th><th>Nurten</th><th>Gülten</th><th><b>TOPLAM</th></tr>  \n",
        "<tr><td>Çikolata</td><td>12</td><td>10</td><td>18</td><td>40</td></tr>  \n",
        "<tr><td>Tarçın-Havuç</td><td>18</td><td>20</td><td>12</td><td>50</td></tr> \n",
        "<tr><td><b>TOPLAM</td><td>30</td><td>30</td><td>30</td><td>90</td></tr> \n",
        "<tr><th colspan=\"5\"></th></tr>  \n",
        "<tr><td>Çikolata</td><td>%13,33</td><td>%11,11</td><td>%20,00</td><td>%44,44</td></tr>  \n",
        "<tr><td>Tarçın-Havuç</td><td>%20,00</td><td>%22,22</td><td>%13,33</td><td>%55,56</td></tr> \n",
        "<tr><td><b>TOPLAM</td><td>%33,33</td><td>%33,33</td><td>%33,33</td><td>%100</td>\n",
        "</tr> \n",
        "</table><br><br>\n",
        "\n",
        "<h3><b>Bayes Kuralı:</b></h3><br>\n",
        "\n",
        "<img src=\"https://aklinizikesfedin.com/wp-content/uploads/2019/07/bayes-formulu-e1563007880950.png\">\n",
        "\n",
        "Tüm tabaklardaki tarçınlı-havuçlu kek oranlarının toplam orana bölümü şeklinde bulunabilir.<br>\n",
        "P(Aht) = 18/30 = 0,6 => Ayten'in tabağındaki havuçlu-tarçınlı kek oranı<br>\n",
        "P(Nht) = 20/30 = 0,6666 => Nurten'in tabağındaki havuçlu-tarçınlı kek oranı<br>\n",
        "<b>P(Ght) = 12/30 = 0,4 => Gülten'in tabağındaki havuçlu-tarçınlı kek oranı</b><br>\n",
        "P(ANG|A)P(Aht)  = Ayten_ToplamKekOrani X Ayten_HavucluKekOrani = 0,3333 X 0,6 = 0,1999<br>\n",
        "P(ANG|N)P(Nht)  = Nurten_ToplamKekOrani X Nurten_HavucluKekOrani = 0,3333 X 0,6666 = 0,2221<br>\n",
        "<b>P(ANG|G)P(Ght)  = Gulten_ToplamKekOrani X Gulten_HavucluKekOrani = 0,3333 X 0,4 = 0,1333</b><br><br>\n",
        "P(G_Kazanma_Olasılıgi) = [P(ANG|G)P(Ght)] / [Toplam_P(ANG|X)P(Xht)]<br>\n",
        "P(ht | G) = [0,3333 X 0,4] / [(0,3333 X 0,6)+(0,3333 X 0,6666)+(0,3333 X 0,4)]<br>= 0,1333 / (0,1999 + 0,2221 + 0,1333) = 0,24 = %24 olasılıkla kazanabilir."
      ]
    },
    {
      "cell_type": "code",
      "metadata": {
        "id": "auDcO_0wlz9g",
        "colab_type": "code",
        "outputId": "672f62c9-27f9-4a8f-a983-3d2e59127bfd",
        "colab": {
          "base_uri": "https://localhost:8080/",
          "height": 34
        }
      },
      "source": [
        "cikolataliKek = [12,10,18] #Sırasıyla Ayten,Nurten,Gülten'in tabaklarındaki çikolatalı kek sayısı\n",
        "havucluKek = [18,20,12] #Sırasıyla Ayten,Nurten,Gülten'in tabaklarındaki havuçlu kek sayısı\n",
        "tabaktakiKekOrani = 1/3 #Kekler 3 eşit parçayla dağıtıldı\n",
        "tabaktakiKekSayisi = 30\n",
        "P_ANG_Toplam = 0\n",
        "\n",
        "#Gülten'in tabağındaki havuçlu kekten yüzük çıkma olasılığı\n",
        "P_ANG_G = tabaktakiKekOrani * (havucluKek[2] / tabaktakiKekSayisi) # P(ANG|G)P(Ght)\n",
        "\n",
        "for i in range(0,len(havucluKek)): #Tüm tabaklardaki havuçlu kekten yüzük çıkma olasılıkları\n",
        "   P_ANG_Toplam = P_ANG_Toplam + (tabaktakiKekOrani * (havucluKek[i] / tabaktakiKekSayisi))\n",
        "\n",
        "P_G_Kazanma = P_ANG_G / P_ANG_Toplam #[P(ANG|G)P(Ght)] / [Toplam_P(ANG|X)P(Xht)]\n",
        "print(\"Gülten'in kazanma olasılığı %\",'{:.4f}'.format(100*P_G_Kazanma,4))"
      ],
      "execution_count": 0,
      "outputs": [
        {
          "output_type": "stream",
          "text": [
            "Gülten'in kazanma olasılığı % 24.0000\n"
          ],
          "name": "stdout"
        }
      ]
    }
  ]
}