{
  "nbformat": 4,
  "nbformat_minor": 0,
  "metadata": {
    "colab": {
      "name": "Erdem_HW4.ipynb",
      "provenance": [],
      "collapsed_sections": [],
      "authorship_tag": "ABX9TyOvkMsRrJ5x5ZbYew5TA88r",
      "include_colab_link": true
    },
    "kernelspec": {
      "name": "python3",
      "display_name": "Python 3"
    }
  },
  "cells": [
    {
      "cell_type": "markdown",
      "metadata": {
        "id": "view-in-github",
        "colab_type": "text"
      },
      "source": [
        "<a href=\"https://colab.research.google.com/github/erdozc/OlasilikHW/blob/master/Erdem_HW4.ipynb\" target=\"_parent\"><img src=\"https://colab.research.google.com/assets/colab-badge.svg\" alt=\"Open In Colab\"/></a>"
      ]
    },
    {
      "cell_type": "markdown",
      "metadata": {
        "id": "EheWhldY8mcn",
        "colab_type": "text"
      },
      "source": [
        "#Ödev 4: Rastgele Değişkenler\n",
        "#1-Kesikli Olasılık\n",
        "Bir balıkçı ailesinin geçimini sağlamak için günde en az 6 somon balığı tutmalıdır. Balıkçı çocuklarına istediği hediyeleri almak için 2~8 arası daha fazla balık tutması gerekmektedir. X rastlantı değişkeni aşağıda verilen balıkçının 8-14 arası balık tutma olasılığı nedir?<br><br>\n",
        "\n",
        "![picture](https://drive.google.com/uc?id=1jXwvTTWVzsug4LVOFvnXeGDfbIaTiIGq) <br><hr>\n",
        "#Çözüm 1:\n",
        "Kesikli olasılık formülü:<br>\n",
        "<h1>Ʃ P(x) = 1'dir.</h1>\n",
        "Balıkçının 8-14 arası balık tutabilmesi için;<br>\n",
        "\n",
        "![picture](https://drive.google.com/uc?id=1HyTeu0BdPNjz6ZMClU3_OyYre2kw_NA-) <br>\n",
        "= [(1/100).8 + (1/100).9 + (1/100).10] + [(1/100).(20-11) + (1/100).(20-12) +(1/100).(20-13) + (1/100).(20-14)]<br>\n",
        "= [0.08 + 0.09 + 0.1] + [0.09 + 0.08 + 0.07 + 0.06]<br>\n",
        "= 0.57 => %57 olasılıkla 8-14 arası balık yakalayabilecek.<br><br>"
      ]
    },
    {
      "cell_type": "code",
      "metadata": {
        "id": "uoLzPDQf8p8n",
        "colab_type": "code",
        "outputId": "0c8253cc-1636-4fd7-c0f7-8edde9e909b0",
        "colab": {
          "base_uri": "https://localhost:8080/",
          "height": 34
        }
      },
      "source": [
        "min_Balik = 8\n",
        "max_balik = 14\n",
        "F = 0\n",
        "\n",
        "for x in range(min_Balik,max_balik+1):\n",
        "  if x<=10: #x 10'dan küçük olduğundaki olaslık formülü\n",
        "    F += (1/100) * x\n",
        "  elif x>10 and x<=20: # x 10~20 arasındaki olasılık formülü.\n",
        "    F += (1/100) * (20-x)\n",
        "  else: # diğer durumlar için 0. yazılmasına gerek yoktu.\n",
        "    F += 0\n",
        "\n",
        "print(\"8~14 arası balık tutma olasılığı %\",'{:3.2f}'.format(F*100))"
      ],
      "execution_count": 0,
      "outputs": [
        {
          "output_type": "stream",
          "text": [
            "8~14 arası balık tutma olasılığı % 57.00\n"
          ],
          "name": "stdout"
        }
      ]
    },
    {
      "cell_type": "markdown",
      "metadata": {
        "id": "CkNfytq_Izpi",
        "colab_type": "text"
      },
      "source": [
        "\n",
        "#2-Sürekli Olasılık\n",
        "Bir dikiş makinesi 0,1,2,3 olmak üzere 4 aşamalı ara değerleri alabilen hız modunda çalışmaktadır. Makinenin hız değerleri arttığında hata olasılığı artmaktadır. Dağılım fonksiyonu aşağıda verilen makine için 1.3 ~ 2 aralığında çalıştırıldığında hata yapma olasılığı nedir?<br>\n",
        "f(x) = 0.1.(3+x) ;  1<x<3 için<br>\n",
        "\n",
        "![image.png](https://drive.google.com/uc?id=1QjMCUBiwKJthdxhZ4LV-dV2ulzIDBNNh) <br><hr>\n",
        "#Çözüm 2:\n",
        "Sürekli olasılık yoğunluk fonksiyonu olduğu için; <br>\n",
        "P(1.3 < X < 2) = F(2) - F(1.3) şeklinde hesaplanabilir.<br>\n",
        "= (9/20).(2.49/20) = 6.51/20 = 0.3255 => %32.55 olasılıkla hata yapar.<br>\n",
        "<b>Ya da;</b><br>\n",
        " P(1.3 < X < 2) = <br> ![picture](https://drive.google.com/uc?id=1J3anYU_oZLzyC4fnwC0T1g5Fnv5lnydE) <br>\n",
        "\n",
        " İntegral hesabı ile çözümlenebilir.\n"
      ]
    },
    {
      "cell_type": "code",
      "metadata": {
        "id": "2DhmSapsJ2eT",
        "colab_type": "code",
        "colab": {
          "base_uri": "https://localhost:8080/",
          "height": 101
        },
        "outputId": "18fc1b25-8958-482f-86a5-73b100902f34"
      },
      "source": [
        "#Dağılım fonksiyonunun methodunu hazırladık\n",
        "def P(x):\n",
        "  if x<=1:\n",
        "    p = 0.01 * x\n",
        "  elif x>1 and x<=3:\n",
        "    p = (1/20) * ((x**2)+(6*x)-7)\n",
        "  else:\n",
        "    P = 1\n",
        "  return p\n",
        "\n",
        "min_hiz = 1.3\n",
        "max_hiz = 2\n",
        "F = 0\n",
        "P_sonuc = P(max_hiz) - P(min_hiz)\n",
        "print(\"Bu hızlarda çalıştırıldığında hatalı dikiş yapma olasılığı %\",'{:3.2f}'.format(100*P_sonuc))\n",
        "\n",
        "#####################################################################################################\n",
        "\n",
        "print(\"\\nintegral hesaplaması ile yapıldığında\\n\")\n",
        "# Diğer çözüm yöntemi ile yapılırsa\n",
        "from scipy.integrate import quad\n",
        "\n",
        "#integral hesabında kullanılacak formül\n",
        "def integrand(x):\n",
        "   return 0.1*(3+x)\n",
        "\n",
        "P_sonuc_integral, err= quad(integrand, min_hiz, max_hiz)\n",
        "print(\"Hata olasılığı %\",'{:3.2f}'.format(100*P_sonuc_integral))\n"
      ],
      "execution_count": 5,
      "outputs": [
        {
          "output_type": "stream",
          "text": [
            "Bu hızlarda çalıştırıldığında hatalı dikiş yapma olasılığı % 32.55\n",
            "\n",
            "integral hesaplaması ile yapıldığında\n",
            "\n",
            "Hata olasılığı % 32.55\n"
          ],
          "name": "stdout"
        }
      ]
    }
  ]
}