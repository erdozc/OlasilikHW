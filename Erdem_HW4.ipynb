{
  "nbformat": 4,
  "nbformat_minor": 0,
  "metadata": {
    "colab": {
      "name": "Erdem_HW4.ipynb",
      "provenance": [],
      "collapsed_sections": [],
      "authorship_tag": "ABX9TyP4NYG0sqd4/XVXBa41Winh",
      "include_colab_link": true
    },
    "kernelspec": {
      "name": "python3",
      "display_name": "Python 3"
    }
  },
  "cells": [
    {
      "cell_type": "markdown",
      "metadata": {
        "id": "view-in-github",
        "colab_type": "text"
      },
      "source": [
        "<a href=\"https://colab.research.google.com/github/erdozc/OlasilikHW/blob/master/Erdem_HW4.ipynb\" target=\"_parent\"><img src=\"https://colab.research.google.com/assets/colab-badge.svg\" alt=\"Open In Colab\"/></a>"
      ]
    },
    {
      "cell_type": "markdown",
      "metadata": {
        "id": "EheWhldY8mcn",
        "colab_type": "text"
      },
      "source": [
        "#Ödev 4: Rastgele Değişkenler\n",
        "#1-Bernoulli\n",
        "Bir balıkçı ailesinin geçimini sağlamak için günde en az 6 somon balığı tutmalıdır. Balıkçı çocuklarına istediği hediyeleri almak için 2~8 arası daha fazla balık tutması gerekmektedir. X rastlantı değişkeni aşağıda verilen balıkçının 8-14 arası balık tutma olasılığı nedir?<br><br>\n",
        "\n",
        "![picture](https://drive.google.com/uc?id=1jXwvTTWVzsug4LVOFvnXeGDfbIaTiIGq) <br><hr>\n",
        "#Çözüm 1: Bernoulli\n",
        "Kesikli olasılık formülü:<br>\n",
        "<h1>Ʃ P(x) = 1'dir.</h1>\n",
        "Balıkçının 8-14 arası balık tutabilmesi için;<br>\n",
        "\n",
        "![picture](https://drive.google.com/uc?id=1HyTeu0BdPNjz6ZMClU3_OyYre2kw_NA-) <br>\n",
        "= [(1/100).8 + (1/100).9 + (1/100).10] + [(1/100).(20-11) + (1/100).(20-12) +(1/100).(20-13) + (1/100).(20-14)]<br>\n",
        "= [0.08 + 0.09 + 0.1] + [0.09 + 0.08 + 0.07 + 0.06]<br>\n",
        "= 0.57 => %57 olasılıkla 8-14 arası balık yakalayabilecek.<br><br>"
      ]
    },
    {
      "cell_type": "code",
      "metadata": {
        "id": "uoLzPDQf8p8n",
        "colab_type": "code",
        "outputId": "0c8253cc-1636-4fd7-c0f7-8edde9e909b0",
        "colab": {
          "base_uri": "https://localhost:8080/",
          "height": 34
        }
      },
      "source": [
        "min_Balik = 8\n",
        "max_balik = 14\n",
        "F = 0\n",
        "\n",
        "for x in range(min_Balik,max_balik+1):\n",
        "  if x<=10: #x 10'dan küçük olduğundaki olaslık formülü\n",
        "    F += (1/100) * x\n",
        "  elif x>10 and x<=20: # x 10~20 arasındaki olasılık formülü.\n",
        "    F += (1/100) * (20-x)\n",
        "  else: # diğer durumlar için 0. yazılmasına gerek yoktu.\n",
        "    F += 0\n",
        "\n",
        "print(\"8~14 arası balık tutma olasılığı %\",'{:3.2f}'.format(F*100))"
      ],
      "execution_count": 0,
      "outputs": [
        {
          "output_type": "stream",
          "text": [
            "8~14 arası balık tutma olasılığı % 57.00\n"
          ],
          "name": "stdout"
        }
      ]
    },
    {
      "cell_type": "markdown",
      "metadata": {
        "id": "apAfm71HnHBK",
        "colab_type": "text"
      },
      "source": [
        "#Ödev 4: Rastgele Değişkenler\n",
        "#Soru 2: Poisson\n",
        "Bir kentin içinde bir ayda ortalama 300, bir günde ortalama 10 trafik kazası\n",
        "olmaktadır. Belli bir gün için meydana gelen kaza sayısının 10'dan az olma olasılığı nedir?\n",
        "#Çözüm 2:\n",
        "X – bir günde meydana gelen kaza sayısı olsun. X ‘in λ =10 olan Poisson\n",
        "Dağılımına sahip olduğu düşünülebilir. Birden fazla olasılık yapılacağı için formül toplam sembolü içerisinde olacak. P(x<10) = P(0)+P(1)+P(2)+...+P(8)+P(9) <br>\n",
        "![poisson_formula](https://miro.medium.com/max/800/0*43Fd-53ZfSCIVyBv.png)<br>\n",
        "P(x<10) = (0~9)∑(exp^-10)(λ^x)/x!<br>\n",
        "Tüm işlemler formüle göre yapıldığında sonuç 0.54207 çıkmaktadır. <br>\n",
        "P(X=0) = 0.00045399929762484854<br>\n",
        "P(X=1) = 0.00045399929762484856<br>\n",
        "P(X=2) = 0.0022699964881242427<br>\n",
        "P(X=3) = 0.007566654960414142<br>\n",
        "P(X=4) = 0.018916637401035358<br>\n",
        "P(X=5) = 0.037833274802070715<br>\n",
        "P(X=6) = 0.06305545800345119<br>\n",
        "P(X=7) = 0.09007922571921598<br>\n",
        "P(X=8) = 0.11259903214901998<br>\n",
        "P(X=9) = 0.1251100357211333<br>\n",
        "P(x<10) = 0.457930 = %45.7930\n"
      ]
    },
    {
      "cell_type": "code",
      "metadata": {
        "id": "-KgeHKeWq8qm",
        "colab_type": "code",
        "colab": {
          "base_uri": "https://localhost:8080/",
          "height": 202
        },
        "outputId": "435655e6-132f-4998-9db6-fe8910da11c8"
      },
      "source": [
        "import math\n",
        "\n",
        "tk = 300 #toplam_kaza_sayisi\n",
        "gk = 10  #bir_gunde_ort_kaza\n",
        "lamda = 10\n",
        "P_poisson = 0\n",
        "\n",
        "for x in range(0,10):\n",
        "  P_poisson += ((lamda**x)/(math.factorial(x)) * math.exp(-lamda))\n",
        "  print(\"P(x <=\",x,\") =\",P_poisson)\n",
        "\n",
        "print(\"10'dan az kaza olma olasılığı %\",format(100*P_poisson,'.4f'))"
      ],
      "execution_count": 20,
      "outputs": [
        {
          "output_type": "stream",
          "text": [
            "P(x <= 0 ) = 4.5399929762484854e-05\n",
            "P(x <= 1 ) = 0.0004993992273873334\n",
            "P(x <= 2 ) = 0.0027693957155115762\n",
            "P(x <= 3 ) = 0.010336050675925718\n",
            "P(x <= 4 ) = 0.029252688076961075\n",
            "P(x <= 5 ) = 0.06708596287903179\n",
            "P(x <= 6 ) = 0.13014142088248298\n",
            "P(x <= 7 ) = 0.22022064660169896\n",
            "P(x <= 8 ) = 0.33281967875071894\n",
            "P(x <= 9 ) = 0.45792971447185227\n",
            "10'dan az kaza olma olasılığı % 45.7930\n"
          ],
          "name": "stdout"
        }
      ]
    }
  ]
}