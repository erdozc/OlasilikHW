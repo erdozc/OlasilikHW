{
  "nbformat": 4,
  "nbformat_minor": 0,
  "metadata": {
    "colab": {
      "name": "Erdem_HW4.ipynb",
      "provenance": [],
      "collapsed_sections": [],
      "authorship_tag": "ABX9TyMgW0h7UubwXJL4W6JIgvMm",
      "include_colab_link": true
    },
    "kernelspec": {
      "name": "python3",
      "display_name": "Python 3"
    }
  },
  "cells": [
    {
      "cell_type": "markdown",
      "metadata": {
        "id": "view-in-github",
        "colab_type": "text"
      },
      "source": [
        "<a href=\"https://colab.research.google.com/github/erdozc/OlasilikHW/blob/master/Erdem_HW4.ipynb\" target=\"_parent\"><img src=\"https://colab.research.google.com/assets/colab-badge.svg\" alt=\"Open In Colab\"/></a>"
      ]
    },
    {
      "cell_type": "markdown",
      "metadata": {
        "id": "EheWhldY8mcn",
        "colab_type": "text"
      },
      "source": [
        "#Ödev 4: Rastgele Değişkenler\n",
        "#1-Kesikli Olasılık\n",
        "Bir balıkçı ailesinin geçimini sağlamak için günde en az 6 somon balığı tutmalıdır. Balıkçı çocuklarına istediği hediyeleri almak için 2~8 arası daha fazla balık tutması gerekmektedir. X rastlantı değişkeni aşağıda verilen balıkçının 8-14 arası balık tutma olasılığı nedir?<br><br>\n",
        "\n",
        "\n",
        " İntegral hesabı ile çözümlenebilir.\n"
      ]
    },
    {
      "cell_type": "code",
      "metadata": {
        "id": "uoLzPDQf8p8n",
        "colab_type": "code",
        "colab": {
          "base_uri": "https://localhost:8080/",
          "height": 34
        },
        "outputId": "0c8253cc-1636-4fd7-c0f7-8edde9e909b0"
      },
      "source": [
        "min_Balik = 8\n",
        "max_balik = 14\n",
        "F = 0\n",
        "\n",
        "for x in range(min_Balik,max_balik+1):\n",
        "  if x<=10: #x 10'dan küçük olduğundaki olaslık formülü\n",
        "    F += (1/100) * x\n",
        "  elif x>10 and x<=20: # x 10~20 arasındaki olasılık formülü.\n",
        "    F += (1/100) * (20-x)\n",
        "  else: # diğer durumlar için 0. yazılmasına gerek yoktu.\n",
        "    F += 0\n",
        "\n",
        "print(\"8~14 arası balık tutma olasılığı %\",'{:3.2f}'.format(F*100))"
      ],
      "execution_count": 1,
      "outputs": [
        {
          "output_type": "stream",
          "text": [
            "8~14 arası balık tutma olasılığı % 57.00\n"
          ],
          "name": "stdout"
        }
      ]
    },
    {
      "cell_type": "code",
      "metadata": {
        "id": "ZBGh8RX18vv-",
        "colab_type": "code",
        "colab": {
          "base_uri": "https://localhost:8080/",
          "height": 101
        },
        "outputId": "1bb1bf02-8b01-45e5-b1f5-7bd8aaef4c89"
      },
      "source": [
        "#Dağılım fonksiyonunun methodunu hazırladık\n",
        "def P(x):\n",
        "  if x<=1:\n",
        "    p = 0.01 * x\n",
        "  elif x>1 and x<=3:\n",
        "    p = (1/20) * ((x**2)+(6*x)-7)\n",
        "  else:\n",
        "    P = 1\n",
        "  return p\n",
        "\n",
        "min_hiz = 1.3\n",
        "max_hiz = 2\n",
        "F = 0\n",
        "P_sonuc = P(max_hiz) - P(min_hiz)\n",
        "print(\"Bu hızlarda çalıştırıldığında hatalı dikiş yapma olasılığı %\",'{:3.2f}'.format(100*P_sonuc))\n",
        "\n",
        "#####################################################################################################\n",
        "\n",
        "print(\"\\nintegral hesaplaması ile yapıldığında\\n\")\n",
        "# Diğer çözüm yöntemi ile yapılırsa\n",
        "from scipy.integrate import quad\n",
        "\n",
        "#integral hesabında kullanılacak formül\n",
        "def integrand(x):\n",
        "   return 0.1*(3+x)\n",
        "\n",
        "P_sonuc_integral, err= quad(integrand, min_hiz, max_hiz)\n",
        "print(\"Hata olasılığı %\",'{:3.2f}'.format(100*P_sonuc_integral))"
      ],
      "execution_count": 3,
      "outputs": [
        {
          "output_type": "stream",
          "text": [
            "Bu hızlarda çalıştırıldığında hatalı dikiş yapma olasılığı % 32.55\n",
            "\n",
            "integral hesaplaması ile yapıldığında\n",
            "\n",
            "Hata olasılığı % 32.55\n"
          ],
          "name": "stdout"
        }
      ]
    }
  ]
}