{
  "nbformat": 4,
  "nbformat_minor": 0,
  "metadata": {
    "colab": {
      "name": "Erdem_HW2.ipynb",
      "provenance": [],
      "collapsed_sections": [],
      "authorship_tag": "ABX9TyP9uU0MuD4v/ofLc9PmdNW1",
      "include_colab_link": true
    },
    "kernelspec": {
      "name": "python3",
      "display_name": "Python 3"
    }
  },
  "cells": [
    {
      "cell_type": "markdown",
      "metadata": {
        "id": "view-in-github",
        "colab_type": "text"
      },
      "source": [
        "<a href=\"https://colab.research.google.com/github/erdozc/OlasilikHW/blob/master/Erdem_HW2.ipynb\" target=\"_parent\"><img src=\"https://colab.research.google.com/assets/colab-badge.svg\" alt=\"Open In Colab\"/></a>"
      ]
    },
    {
      "cell_type": "markdown",
      "metadata": {
        "id": "C-mxufrl2tTT",
        "colab_type": "text"
      },
      "source": [
        "#Soru: Olasılık\n",
        "10000bit bit gönderen bir haberleşme kanalında 200 tanesi hatalı gönderilmiş bittir.<br>\n",
        "Bu bit dizininden rastgele 100bit kontrol ediliyor. Kontrol edilen bitlerde hiç hatalı bit olmama olasılığı nedir?<hr>\n",
        "#Cevap:\n",
        "Toplam Bit sayısı: 10000<br> \n",
        "Seçilen bit sayısı: 100<br>\n",
        "Hatalı bit sayısı: 200<br><br>\n",
        "P(B) = |E|/|S|<br>\n",
        "|E| : Hiç sıfır geleme olayı<br>\n",
        "|S| : Koşulsuz tüm seçimler. Örnek Uzayı.<br><br>\n",
        "|E| = (10000 - 200)! / [(10000 - 200)-100]! * 100! <br>\n",
        "|S| = 10000! / (10000 -100)! * 100! <br>\n"
      ]
    },
    {
      "cell_type": "code",
      "metadata": {
        "id": "QWixUssR2lOS",
        "colab_type": "code",
        "outputId": "c7bd0ca5-4392-42a8-a1b2-9714ad41fe87",
        "colab": {
          "base_uri": "https://localhost:8080/",
          "height": 84
        }
      },
      "source": [
        "def fact(n,s=0): # klasik recursive factorial fonksiyonu, s bitirme koşulu\n",
        "    if (n == s):\n",
        "        return 1\n",
        "    else:\n",
        "        return n * fact(n-1,s)\n",
        "\n",
        "def comb(a,b):  # kombinasyon formülü a!/(a-b)!.b!\n",
        "  b=a-b\n",
        "  return fact(a,b)/fact(a-b)\n",
        "\n",
        "tB = 10000  # Toplam bit sayısı\n",
        "sB = 100    # Rastgele ölçülen bit sayısı\n",
        "hB = 200    # Bit dizisindeki hatalı bit sayısı\n",
        "\n",
        "CE = comb((tB-hB),sB)    # Hiç hatalı gelmeme olayı. Combination\n",
        "CS = comb(tB,sB)         # Rastgele seçme olayı. Örnek Uzay,Combination\n",
        "\n",
        "print(\"Hiç hatalı gelmeme olayı:\",CE)\n",
        "print(\"Rastgele seçme olayı. Örnek Uzay:\",CS)\n",
        "\n",
        "PB = (CE/CS)*100\n",
        "print(\"\\nHiç hatalı bit gelememe olasılığı: %\" , format(PB, '.4f'))"
      ],
      "execution_count": 78,
      "outputs": [
        {
          "output_type": "stream",
          "text": [
            "Hiç hatalı gelmeme olayı: 8.560412479804797e+240\n",
            "Rastgele seçme olayı. Örnek Uzay: 6.520846924547257e+241\n",
            "\n",
            "Hiç hatalı bit gelememe olasılığı: % 13.1278\n"
          ],
          "name": "stdout"
        }
      ]
    }
  ]
}