{
  "nbformat": 4,
  "nbformat_minor": 0,
  "metadata": {
    "colab": {
      "name": "Erdem_HW2.ipynb",
      "provenance": [],
      "authorship_tag": "ABX9TyMmBtXKKadpfjMn3OWOl6g6",
      "include_colab_link": true
    },
    "kernelspec": {
      "name": "python3",
      "display_name": "Python 3"
    }
  },
  "cells": [
    {
      "cell_type": "markdown",
      "metadata": {
        "id": "view-in-github",
        "colab_type": "text"
      },
      "source": [
        "<a href=\"https://colab.research.google.com/github/erdozc/OlasilikHW/blob/master/Erdem_HW2.ipynb\" target=\"_parent\"><img src=\"https://colab.research.google.com/assets/colab-badge.svg\" alt=\"Open In Colab\"/></a>"
      ]
    },
    {
      "cell_type": "markdown",
      "metadata": {
        "id": "C-mxufrl2tTT",
        "colab_type": "text"
      },
      "source": [
        "#Soru: Olasılık\n",
        "10000bit bit gönderen bir haberleşme kanalında 4000 tane 0 biti gönderilmiştir.<br>\n",
        "Bu bit dizininden rastgele 100bit kontrol ediliyor. Kontrol edilen bitlerde hiç 0 olmama olasılığı nedir?<hr>\n",
        "#Cevap:\n",
        "Toplam Bit sayısı: 10000<br> \n",
        "Seçilen bit sayısı: 100<br>\n",
        "Sıfır bit sayısı: 4000<br><br>\n",
        "P(B) = |E|/|S|<br>\n",
        "|E| : Hiç sıfır geleme olayı<br>\n",
        "|S| : Koşulsuz tüm seçimler. Örnek Uzayı.<br><br>\n",
        "|E| = (10000 - 4000)! / [(10000 - 4000)-100]! * 100! <br>\n",
        "|S| = 10000! / (10000 -100)! * 100! <br>\n"
      ]
    },
    {
      "cell_type": "code",
      "metadata": {
        "id": "QWixUssR2lOS",
        "colab_type": "code",
        "colab": {
          "base_uri": "https://localhost:8080/",
          "height": 84
        },
        "outputId": "45cec627-f56e-467c-b98e-573de8d3bd35"
      },
      "source": [
        "def fact(n,s=0): # klasik recursive factorial fonksiyonu, s bitirme koşulu\n",
        "    if (n == s):\n",
        "        return 1\n",
        "    else:\n",
        "        return n * fact(n-1,s)\n",
        "\n",
        "def comb(a,b):  # kombinasyon formülü a!/(a-b)!.b!\n",
        "  b=a-b\n",
        "  return fact(a,b)/fact(a-b)\n",
        "\n",
        "tB = 10000  # Toplam bit sayısı\n",
        "sB = 100    # Rastgele ölçülen bit sayısı\n",
        "sS = 4000   # Bit dizisindeki 0 sayısı\n",
        "\n",
        "CE = comb((tB-sS),sB)    # Hiç 0 gelmeme olayı. Combination\n",
        "CS = comb(tB,sB)         # Rastgele seçme olayı. Örnek Uzay,Combination\n",
        "\n",
        "print(\"Hiç 0 gelmeme olayı:\",CE)\n",
        "print(\"Rastgele seçme olayı. Örnek Uzay:\",CS)\n",
        "\n",
        "PB = (CE/CS)*100\n",
        "print(\"\\nHiç sıfır gelememe olasılığı: %\" , PB)"
      ],
      "execution_count": 64,
      "outputs": [
        {
          "output_type": "stream",
          "text": [
            "Hiç 0 gelmeme olayı: 3.053734568134684e+219\n",
            "Rastgele seçme olayı. Örnek Uzay: 6.520846924547257e+241\n",
            "\n",
            "Hiç sıfır gelememe olasılığı: % 4.683033666438512e-21\n"
          ],
          "name": "stdout"
        }
      ]
    }
  ]
}